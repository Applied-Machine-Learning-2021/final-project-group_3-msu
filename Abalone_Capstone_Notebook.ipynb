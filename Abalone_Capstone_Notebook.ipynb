{
  "nbformat": 4,
  "nbformat_minor": 0,
  "metadata": {
    "colab": {
      "name": "Abalone Capstone Notebook",
      "private_outputs": true,
      "provenance": [],
      "collapsed_sections": [
        "Ww_aBpup8QhC",
        "cS1j2UmWFjq0",
        "P6oxFwri7tts",
        "VeAOsXNZ5eBX"
      ]
    },
    "kernelspec": {
      "name": "python3",
      "display_name": "Python 3"
    },
    "language_info": {
      "name": "python"
    },
    "accelerator": "GPU"
  },
  "cells": [
    {
      "cell_type": "markdown",
      "metadata": {
        "id": "8YujOX3mgro9"
      },
      "source": [
        "Introduction\n",
        "---"
      ]
    },
    {
      "cell_type": "markdown",
      "metadata": {
        "id": "ddlyXdX1k9j_"
      },
      "source": [
        "__Team Members: Isaiah Dornelus, Bobbi Byrd, Adam Abaker, Erika Johnson, Kenneth Burwell-Tibbs__"
      ]
    },
    {
      "cell_type": "markdown",
      "metadata": {
        "id": "yr_WNn18gu1A"
      },
      "source": [
        "\n",
        "*What is classification?*\n",
        "\n",
        "\n",
        "Classification is the arrangement of objects into categories based on aspects it shares with others. We will be doing this with data on abalones.\n",
        "\n",
        "---"
      ]
    },
    {
      "cell_type": "markdown",
      "metadata": {
        "id": "hItqz02Hg84a"
      },
      "source": [
        "*What are abalones?*\n",
        "\n",
        "\n",
        "Abalones are a type of marine snail that are fished in places like the western U.S., Japan, Mexico, and Africa. They can also be raised on farms. An abalone's age can be determined by cutting the shell and counting the number of rings, which is time consuming. \n",
        "\n",
        "---\n"
      ]
    },
    {
      "cell_type": "markdown",
      "metadata": {
        "id": "2il3uTcihBXt"
      },
      "source": [
        "\n",
        "*What is our goal?*\n",
        "\n",
        "\n",
        "Our goal is to make a Guassian Naive Bayes Classifier model that can accurately predict the abalone number of rings and/or age based off of different traits.\n",
        "\n",
        "---"
      ]
    },
    {
      "cell_type": "markdown",
      "metadata": {
        "id": "LDuNotDOig6v"
      },
      "source": [
        "*Ethical Considerations*\n",
        "\n",
        "Our model can be used to find out where abalones are struggling by using their average age, and without the need to cut their shells. This can help put restrictions on where there is overfishing. Knowing an abalone's age can also help farmers quickly find a market price."
      ]
    },
    {
      "cell_type": "markdown",
      "metadata": {
        "id": "SU-fkWNxw74x"
      },
      "source": [
        "Imports\n",
        "---"
      ]
    },
    {
      "cell_type": "markdown",
      "metadata": {
        "id": "KhYVMqgQw-Wp"
      },
      "source": [
        "Imports are necessary because not all of the coding tools for the data are available from the start."
      ]
    },
    {
      "cell_type": "code",
      "metadata": {
        "id": "xvdl7P4HwxBY"
      },
      "source": [
        "import numpy as np\n",
        "import pandas as pd"
      ],
      "execution_count": null,
      "outputs": []
    },
    {
      "cell_type": "markdown",
      "metadata": {
        "id": "ZUQpPwUZxXc1"
      },
      "source": [
        "---"
      ]
    },
    {
      "cell_type": "markdown",
      "metadata": {
        "id": "ozfIwJDinBC2"
      },
      "source": [
        "Exploratory Data Analysis\n",
        "==="
      ]
    },
    {
      "cell_type": "markdown",
      "metadata": {
        "id": "PPiMV4Yq6IZG"
      },
      "source": [
        "Loading Data\n",
        "---"
      ]
    },
    {
      "cell_type": "markdown",
      "metadata": {
        "id": "kqlEyQ0k6R--"
      },
      "source": [
        "The open commands took in a path to the file that needs to be read and printed out what was in it. Next, we'll do the same for the actual data."
      ]
    },
    {
      "cell_type": "code",
      "metadata": {
        "id": "tu9boFt7P_mv"
      },
      "source": [
        "file1 = open('/content/abalone assignment 4  data .names')\n",
        "\n",
        "for data in file1:\n",
        "  print(data)"
      ],
      "execution_count": null,
      "outputs": []
    },
    {
      "cell_type": "code",
      "metadata": {
        "id": "bv6OUzB9edDK"
      },
      "source": [
        "file2 = open('/content/abalone assignment 4 data.data')\n",
        "\n",
        "abalone_data = pd.DataFrame(data= file2)\n",
        "abalone_data "
      ],
      "execution_count": null,
      "outputs": []
    },
    {
      "cell_type": "markdown",
      "metadata": {
        "id": "lQaSQBuq6zoA"
      },
      "source": [
        "Here is a data frame that contains the abalone information. Each row of data was loaded into a single column."
      ]
    },
    {
      "cell_type": "markdown",
      "metadata": {
        "id": "9rNvLy__6iNl"
      },
      "source": [
        "---"
      ]
    },
    {
      "cell_type": "markdown",
      "metadata": {
        "id": "yBbQhl_6SbKW"
      },
      "source": [
        "Setting Up The DataFrame\n",
        "---"
      ]
    },
    {
      "cell_type": "code",
      "metadata": {
        "id": "0h_oBgBvS9IJ"
      },
      "source": [
        "string = abalone_data.loc[abalone_data.index == 0].values[0][0] #Take and show one specific row from the data\n",
        "string"
      ],
      "execution_count": null,
      "outputs": []
    },
    {
      "cell_type": "markdown",
      "metadata": {
        "id": "Xf0H5W6u7uXQ"
      },
      "source": [
        "An index has the labels for every row. The loc command selected row 0. The values command takes the value(s) in the row. A single column has the data for multiple columns combined into one string (combination of characters). It needs to be separated using the split command at each comma (,). "
      ]
    },
    {
      "cell_type": "code",
      "metadata": {
        "id": "z0SfNcFZUHNC"
      },
      "source": [
        "string.split(',')"
      ],
      "execution_count": null,
      "outputs": []
    },
    {
      "cell_type": "markdown",
      "metadata": {
        "id": "PfwE4b618HH4"
      },
      "source": [
        "Now these values can be put into separate columns in a new data frame called abalone_df."
      ]
    },
    {
      "cell_type": "code",
      "metadata": {
        "id": "swZHcY0rUE_x"
      },
      "source": [
        "string0 = abalone_data.loc[abalone_data.index == 0].values[0][0]\n",
        "string0 = pd.Series(string0.split(',')) #A series is needed to work with the datframe command\n",
        "abalone_df = pd.DataFrame([string0])\n",
        "abalone_df "
      ],
      "execution_count": null,
      "outputs": []
    },
    {
      "cell_type": "markdown",
      "metadata": {
        "id": "HJ2VxCE68bn5"
      },
      "source": [
        "We are going to create a list with every value in the index except the first because we need to add the others to abalone_df."
      ]
    },
    {
      "cell_type": "code",
      "metadata": {
        "id": "FmhFKYivj2-Q"
      },
      "source": [
        "Rows_except0 = list(range(1, len(abalone_data.index)))"
      ],
      "execution_count": null,
      "outputs": []
    },
    {
      "cell_type": "markdown",
      "metadata": {
        "id": "Mgyv8sDe9PyF"
      },
      "source": [
        "Next we are going to make a for loop. It selects a string from the rows in the abalone data, repeats what was done in the code cells above, and puts it into the new dataframe."
      ]
    },
    {
      "cell_type": "code",
      "metadata": {
        "id": "3WWjdz23dzhb"
      },
      "source": [
        "for i in Rows_except0:\n",
        "  string = abalone_data.loc[abalone_data.index == i].values[0][0] #Select each string from the data\n",
        "  string = pd.DataFrame(string.split(',')).transpose() #The values load in as columns, so we transpose them to turn them into rows\n",
        "  abalone_df = pd.concat([abalone_df, string], axis = 0) #These values are then added to the new dataframe."
      ],
      "execution_count": null,
      "outputs": []
    },
    {
      "cell_type": "code",
      "metadata": {
        "id": "po0jj1kQhaUZ"
      },
      "source": [
        "abalone_df"
      ],
      "execution_count": null,
      "outputs": []
    },
    {
      "cell_type": "markdown",
      "metadata": {
        "id": "t5CcGWDo-3QR"
      },
      "source": [
        "There are no labels for the columns. However, the 'abalone assignment 4  data .names' file that was printed earlier had a list of categories for the data, so we will use those as labels."
      ]
    },
    {
      "cell_type": "code",
      "metadata": {
        "id": "k3bdlZgDmHlw"
      },
      "source": [
        "columns = ['Sex', 'Length (mm)',\t'Diam (mm)',\t'Height (mm)',\t'Whole Weight (grams)',\t'Shucked Weight (grams)',\t'Viscera Weight (grams)',\t'Shell Weight (grams)',\t'Rings']\n",
        "abalone_df.columns = columns\n",
        "abalone_df.columns"
      ],
      "execution_count": null,
      "outputs": []
    },
    {
      "cell_type": "markdown",
      "metadata": {
        "id": "SCfIZGQ2SjY1"
      },
      "source": [
        "---"
      ]
    },
    {
      "cell_type": "markdown",
      "metadata": {
        "id": "Pvi-MjjmSkSP"
      },
      "source": [
        "Repairing Data\n",
        "---"
      ]
    },
    {
      "cell_type": "code",
      "metadata": {
        "id": "Fz-TEh83uEX7"
      },
      "source": [
        "abalone_df"
      ],
      "execution_count": null,
      "outputs": []
    },
    {
      "cell_type": "code",
      "metadata": {
        "id": "It7NTKFNsHQR"
      },
      "source": [
        "abalone_df['Rings'].values"
      ],
      "execution_count": null,
      "outputs": []
    },
    {
      "cell_type": "markdown",
      "metadata": {
        "id": "-ZLd-k5U_zmO"
      },
      "source": [
        "The Rings values are strings and have a '\\n' portion that we need to take off. This next code replaces every '/n' with an empty string. Then every value in the Rings is set as a floating number (number with a decimal)"
      ]
    },
    {
      "cell_type": "code",
      "metadata": {
        "id": "ssL9cbd1cChT"
      },
      "source": [
        "abalone_df = abalone_df.replace('\\n','', regex=True)\n",
        "abalone_df['Rings'] =  abalone_df['Rings'].astype(int)\n",
        "abalone_df['Rings'].values"
      ],
      "execution_count": null,
      "outputs": []
    },
    {
      "cell_type": "markdown",
      "metadata": {
        "id": "EKivZkQMU6-L"
      },
      "source": [
        "The total_rows variable will also be used to fix the index of zeros."
      ]
    },
    {
      "cell_type": "code",
      "metadata": {
        "id": "tSuT5YvzZ84R"
      },
      "source": [
        "Total_rows = list(range(0 , len(abalone_data.values)))"
      ],
      "execution_count": null,
      "outputs": []
    },
    {
      "cell_type": "code",
      "metadata": {
        "id": "GWt9s9b9U864"
      },
      "source": [
        "abalone_df.index = Total_rows\n",
        "abalone_df"
      ],
      "execution_count": null,
      "outputs": []
    },
    {
      "cell_type": "markdown",
      "metadata": {
        "id": "iIy3rPlJVEu5"
      },
      "source": [
        "And now to sort it by the total number of rings."
      ]
    },
    {
      "cell_type": "code",
      "metadata": {
        "id": "E3leBvHxVOYD"
      },
      "source": [
        "abalone_df = abalone_df.sort_values(by = 'Rings')"
      ],
      "execution_count": null,
      "outputs": []
    },
    {
      "cell_type": "markdown",
      "metadata": {
        "id": "nsbtFPLCT9MR"
      },
      "source": [
        "---"
      ]
    },
    {
      "cell_type": "markdown",
      "metadata": {
        "id": "g_TfxuiBSzI8"
      },
      "source": [
        "Repairing Data (Continued)\n",
        "---"
      ]
    },
    {
      "cell_type": "markdown",
      "metadata": {
        "id": "22kEEXTPDRfb"
      },
      "source": [
        "Now to show information about the data."
      ]
    },
    {
      "cell_type": "code",
      "metadata": {
        "id": "ke7jQAhbiyvq"
      },
      "source": [
        "abalone_df.describe()"
      ],
      "execution_count": null,
      "outputs": []
    },
    {
      "cell_type": "markdown",
      "metadata": {
        "id": "f4zKhokuDd-m"
      },
      "source": [
        "There's one more problem with abalone_df. The describe command takes information about the columns such as the mean and only works with numbers. Only 1 column is showing, so the others must have string values."
      ]
    },
    {
      "cell_type": "code",
      "metadata": {
        "id": "HC6gTuNIYkDO"
      },
      "source": [
        "columns"
      ],
      "execution_count": null,
      "outputs": []
    },
    {
      "cell_type": "markdown",
      "metadata": {
        "id": "_7Vn8sRFYwFl"
      },
      "source": [
        "A for loop will convert the numerical columns into floating numbers (numbers with decimals). Values from an array of column names are selected. Then, the data frame column with the same name is converted into floats.\n",
        "\n"
      ]
    },
    {
      "cell_type": "code",
      "metadata": {
        "id": "i7rUNvNXgGji"
      },
      "source": [
        "for column in abalone_df.columns.drop('Sex'):\n",
        "  abalone_df[column] = abalone_df[column].astype(float)"
      ],
      "execution_count": null,
      "outputs": []
    },
    {
      "cell_type": "markdown",
      "metadata": {
        "id": "ZM8eBNq-Fc62"
      },
      "source": [
        "Now to try the describe command again."
      ]
    },
    {
      "cell_type": "code",
      "metadata": {
        "id": "ySNWXcSkuXR1"
      },
      "source": [
        "abalone_df.describe()"
      ],
      "execution_count": null,
      "outputs": []
    },
    {
      "cell_type": "markdown",
      "metadata": {
        "id": "X4zeXKsmS696"
      },
      "source": [
        "We also need check for missing values, usually labaled as NaN."
      ]
    },
    {
      "cell_type": "code",
      "metadata": {
        "id": "4Wm1gtm7edDN"
      },
      "source": [
        "abalone_df.isna().any().any()  #Check for missing values"
      ],
      "execution_count": null,
      "outputs": []
    },
    {
      "cell_type": "code",
      "metadata": {
        "id": "LqKmAwf4cj1M"
      },
      "source": [
        "abalone_df #See repaired dataframe"
      ],
      "execution_count": null,
      "outputs": []
    },
    {
      "cell_type": "markdown",
      "metadata": {
        "id": "AugyTDyBg-90"
      },
      "source": [
        "---"
      ]
    },
    {
      "cell_type": "markdown",
      "metadata": {
        "id": "JfL0Pv4Ozu-R"
      },
      "source": [
        "---"
      ]
    },
    {
      "cell_type": "markdown",
      "metadata": {
        "id": "8OsemYjLVsU8"
      },
      "source": [
        "Visualizations\n",
        "---"
      ]
    },
    {
      "cell_type": "markdown",
      "metadata": {
        "id": "XvP-21r8Zjcm"
      },
      "source": [
        "Sex"
      ]
    },
    {
      "cell_type": "markdown",
      "metadata": {
        "id": "cRQpkJR5V6pJ"
      },
      "source": [
        "Next, we'll look at each individuatl column."
      ]
    },
    {
      "cell_type": "code",
      "metadata": {
        "id": "_RE8MRe_V-rY"
      },
      "source": [
        "import matplotlib.pyplot as plt\n",
        "print('Sex')\n",
        "plt.hist(abalone_df['Sex'].values)\n",
        "plt.xlabel('Sex')\n",
        "plt.ylabel('Abalones')"
      ],
      "execution_count": null,
      "outputs": []
    },
    {
      "cell_type": "markdown",
      "metadata": {
        "id": "TuA90gE8WUUB"
      },
      "source": [
        "Most of the abalones are male."
      ]
    },
    {
      "cell_type": "markdown",
      "metadata": {
        "id": "n-NIcIaUZmVr"
      },
      "source": [
        "---"
      ]
    },
    {
      "cell_type": "markdown",
      "metadata": {
        "id": "OgaPVdvWZncz"
      },
      "source": [
        "Length"
      ]
    },
    {
      "cell_type": "code",
      "metadata": {
        "id": "xnFNhi0QWU0u"
      },
      "source": [
        "print('Length (mm)')\n",
        "plt.hist(abalone_df['Length (mm)'].values)\n",
        "plt.xlabel('mm')\n",
        "plt.ylabel('Abalones')"
      ],
      "execution_count": null,
      "outputs": []
    },
    {
      "cell_type": "markdown",
      "metadata": {
        "id": "cZ8WSbnQWZNW"
      },
      "source": [
        "A large portion of the abalones have a length around 0.5 to 0.7 mm."
      ]
    },
    {
      "cell_type": "markdown",
      "metadata": {
        "id": "DrGLl5DNZpm6"
      },
      "source": [
        "---"
      ]
    },
    {
      "cell_type": "markdown",
      "metadata": {
        "id": "6uhAnClvZqKd"
      },
      "source": [
        "Diameter"
      ]
    },
    {
      "cell_type": "code",
      "metadata": {
        "id": "FpTTLnLLWZfy"
      },
      "source": [
        "print('Diameter (mm)')\n",
        "plt.hist(abalone_df['Diam (mm)'].values)\n",
        "plt.xlabel('mm')\n",
        "plt.ylabel('Abalones')"
      ],
      "execution_count": null,
      "outputs": []
    },
    {
      "cell_type": "markdown",
      "metadata": {
        "id": "3Otux88SWdy1"
      },
      "source": [
        "Abalones tend to have a diameter around 0.4 to 0.5 mm."
      ]
    },
    {
      "cell_type": "markdown",
      "metadata": {
        "id": "i-yPKD2_ZsFJ"
      },
      "source": [
        "---"
      ]
    },
    {
      "cell_type": "markdown",
      "metadata": {
        "id": "qITrURxDZstw"
      },
      "source": [
        "Height"
      ]
    },
    {
      "cell_type": "code",
      "metadata": {
        "id": "0gCTQFkrWeQ5"
      },
      "source": [
        "print('Height (mm)')\n",
        "plt.hist(abalone_df['Height (mm)'].values)\n",
        "plt.xlabel('mm')\n",
        "plt.ylabel('Abalones')"
      ],
      "execution_count": null,
      "outputs": []
    },
    {
      "cell_type": "markdown",
      "metadata": {
        "id": "gxbwjRH2Wg4J"
      },
      "source": [
        "Almost all abalones have a height less than .02 mm."
      ]
    },
    {
      "cell_type": "markdown",
      "metadata": {
        "id": "zvhoXAuYZvoq"
      },
      "source": [
        "---"
      ]
    },
    {
      "cell_type": "markdown",
      "metadata": {
        "id": "-yJdX2CtZyMt"
      },
      "source": [
        "Whole Weight"
      ]
    },
    {
      "cell_type": "code",
      "metadata": {
        "id": "sbBpWynCWhHl"
      },
      "source": [
        "print('Whole weight (grams)')\n",
        "plt.hist(abalone_df['Whole Weight (grams)'].values)\n",
        "plt.xlabel('grams')"
      ],
      "execution_count": null,
      "outputs": []
    },
    {
      "cell_type": "markdown",
      "metadata": {
        "id": "cID1NYpVhq4W"
      },
      "source": [
        "Nearly all of the abalones have a total weight under 2 grams, and the majority under 1.5 grams."
      ]
    },
    {
      "cell_type": "markdown",
      "metadata": {
        "id": "aRq9Wj7ZZ1uD"
      },
      "source": [
        "---"
      ]
    },
    {
      "cell_type": "markdown",
      "metadata": {
        "id": "Ei0oRwBaZ2ht"
      },
      "source": [
        "Shucked Weight"
      ]
    },
    {
      "cell_type": "code",
      "metadata": {
        "id": "fSPxIWGkhquE"
      },
      "source": [
        "print('Shucked Weight (grams)')\n",
        "plt.hist(abalone_df['Shucked Weight (grams)'].values)\n",
        "plt.xlabel('grams')\n",
        "plt.ylabel('Abalones')"
      ],
      "execution_count": null,
      "outputs": []
    },
    {
      "cell_type": "markdown",
      "metadata": {
        "id": "ERva9lr-ieuq"
      },
      "source": [
        "Most of the analones have a shucked weight under .8 grams, with outliers up to 1.4 grams."
      ]
    },
    {
      "cell_type": "markdown",
      "metadata": {
        "id": "cRucmJaraOVZ"
      },
      "source": [
        "---"
      ]
    },
    {
      "cell_type": "markdown",
      "metadata": {
        "id": "2rUPohQeamJ2"
      },
      "source": [
        "Viscera Weight"
      ]
    },
    {
      "cell_type": "code",
      "metadata": {
        "id": "ByG8FS7winP9"
      },
      "source": [
        "print('Viscera Weight (grams)')\n",
        "plt.hist(abalone_df['Viscera Weight (grams)'].values)\n",
        "plt.xlabel('grams')\n",
        "plt.ylabel('Abalones')"
      ],
      "execution_count": null,
      "outputs": []
    },
    {
      "cell_type": "markdown",
      "metadata": {
        "id": "oEuDSUNoiqyF"
      },
      "source": [
        "Alot of the viscera weights are under 0.4 grams."
      ]
    },
    {
      "cell_type": "markdown",
      "metadata": {
        "id": "NvFC3fTDarFv"
      },
      "source": [
        "---"
      ]
    },
    {
      "cell_type": "markdown",
      "metadata": {
        "id": "2euKFECrasTn"
      },
      "source": [
        "Shell Weight"
      ]
    },
    {
      "cell_type": "code",
      "metadata": {
        "id": "CKUvWXpyirhF"
      },
      "source": [
        "print('Shell Weight (grams)')\n",
        "plt.hist(abalone_df['Shell Weight (grams)'].values)\n",
        "plt.xlabel('grams')\n",
        "plt.ylabel('Abalones')"
      ],
      "execution_count": null,
      "outputs": []
    },
    {
      "cell_type": "markdown",
      "metadata": {
        "id": "h7xOZngiixs2"
      },
      "source": [
        "Shell weights mostly fall under 0.6 grams."
      ]
    },
    {
      "cell_type": "markdown",
      "metadata": {
        "id": "WTjhc-7PawSc"
      },
      "source": [
        "---"
      ]
    },
    {
      "cell_type": "markdown",
      "metadata": {
        "id": "reOfd_d-axY9"
      },
      "source": [
        "Number of Rings"
      ]
    },
    {
      "cell_type": "code",
      "metadata": {
        "id": "p61NVREwiw0F"
      },
      "source": [
        "print('Rings')\n",
        "plt.hist(abalone_df['Rings'].values)\n",
        "plt.xlabel('# of Rings')\n",
        "plt.ylabel('Abalones')"
      ],
      "execution_count": null,
      "outputs": []
    },
    {
      "cell_type": "markdown",
      "metadata": {
        "id": "Qc8cBIDea1-K"
      },
      "source": [
        "Many abalones have around 10 total rings."
      ]
    },
    {
      "cell_type": "markdown",
      "metadata": {
        "id": "VcSPdj11hptC"
      },
      "source": [
        "---"
      ]
    },
    {
      "cell_type": "markdown",
      "metadata": {
        "id": "SGnL4gY109FF"
      },
      "source": [
        "---"
      ]
    },
    {
      "cell_type": "markdown",
      "metadata": {
        "id": "oeXz-rJ0m00c"
      },
      "source": [
        "Data Preparation\n",
        "==="
      ]
    },
    {
      "cell_type": "markdown",
      "metadata": {
        "id": "QBgU0huuAf1O"
      },
      "source": [
        "One-Hot Encoding\n",
        "---"
      ]
    },
    {
      "cell_type": "markdown",
      "metadata": {
        "id": "VXbLZd6jAO0U"
      },
      "source": [
        "The non-numerical values need to be changed to numbers, otherwise the model will not work. The problem would be the 'Sex' column. The next cell shows the different valus."
      ]
    },
    {
      "cell_type": "code",
      "metadata": {
        "id": "4ZmgKBziedDM"
      },
      "source": [
        "abalone_df['Sex'].unique()"
      ],
      "execution_count": null,
      "outputs": []
    },
    {
      "cell_type": "markdown",
      "metadata": {
        "id": "Fc49rk8SAcrm"
      },
      "source": [
        "There are 3 unique values which need to be one-hot encoded. One-hot encoding is selecting a string(s) or non-numerical value(s) and changing it to a number. The loc command specifies a row and column, then sets it equal to something."
      ]
    },
    {
      "cell_type": "code",
      "metadata": {
        "id": "ea_PbV0SfN1L"
      },
      "source": [
        "#Change genders to numerical values\n",
        "abalone_df.loc[abalone_df['Sex'] == 'I', 'Sex'] = 0\n",
        "abalone_df.loc[abalone_df['Sex'] == 'M', 'Sex'] = 1\n",
        "abalone_df.loc[abalone_df['Sex'] == 'F', 'Sex'] = 2"
      ],
      "execution_count": null,
      "outputs": []
    },
    {
      "cell_type": "markdown",
      "metadata": {
        "id": "BP-FcfJgDM5l"
      },
      "source": [
        "The unique values should now be 0, 1, and 2."
      ]
    },
    {
      "cell_type": "code",
      "metadata": {
        "id": "piFCCgnff-OR"
      },
      "source": [
        "abalone_df['Sex'].unique()"
      ],
      "execution_count": null,
      "outputs": []
    },
    {
      "cell_type": "markdown",
      "metadata": {
        "id": "KvZ6dN9oqsML"
      },
      "source": [
        "Target and Features\n",
        "---"
      ]
    },
    {
      "cell_type": "markdown",
      "metadata": {
        "id": "NDbXEDlqiXa_"
      },
      "source": [
        "Features are what we use to predict the target or class. The number of rings (target) will be predicted. All columns except 'Rings' are defined as the features."
      ]
    },
    {
      "cell_type": "code",
      "metadata": {
        "id": "xXA1byWsedDO"
      },
      "source": [
        "#Define target and features\n",
        "\n",
        "FEATURES = abalone_df.columns[:-1]\n",
        "target = 'Rings'\n",
        "FEATURES, target"
      ],
      "execution_count": null,
      "outputs": []
    },
    {
      "cell_type": "markdown",
      "metadata": {
        "id": "ze0m-T_Zekey"
      },
      "source": [
        "---"
      ]
    },
    {
      "cell_type": "markdown",
      "metadata": {
        "id": "N_Wn7i-sDYg0"
      },
      "source": [
        "---"
      ]
    },
    {
      "cell_type": "markdown",
      "metadata": {
        "id": "3jIPSLPHGJhK"
      },
      "source": [
        "Model 1\n",
        "==="
      ]
    },
    {
      "cell_type": "markdown",
      "metadata": {
        "id": "5xzJ4ZXydYue"
      },
      "source": [
        "Train/Test Split\n",
        "---"
      ]
    },
    {
      "cell_type": "markdown",
      "metadata": {
        "id": "3GZzK7jhXymO"
      },
      "source": [
        "Now the data will be split with sklearn's train/test split command. 70% is used in the training set to train the model  to predict the target. 30% of the data will be used to test the model accuracy. Shuffle and random state will randomize the data."
      ]
    },
    {
      "cell_type": "code",
      "metadata": {
        "id": "bi3FSMtRedDS"
      },
      "source": [
        "#Train/Test Split\n",
        "from sklearn.model_selection import train_test_split\n",
        "\n",
        "X_train, X_test, y_train, y_test = train_test_split(\n",
        "    abalone_df[FEATURES],\n",
        "    abalone_df[target],\n",
        "    test_size=0.30,\n",
        "    random_state=300,\n",
        "    shuffle=True,\n",
        ")\n",
        "print(X_train.size, y_train.size)\n",
        "print(X_test.size, y_test.size)"
      ],
      "execution_count": null,
      "outputs": []
    },
    {
      "cell_type": "markdown",
      "metadata": {
        "id": "BBcWPJiMl81B"
      },
      "source": [
        "---"
      ]
    },
    {
      "cell_type": "markdown",
      "metadata": {
        "id": "1CqP9iABhcCk"
      },
      "source": [
        "Model 1 setup (Gaussian Naïve Bayes Classifier) \n",
        "---"
      ]
    },
    {
      "cell_type": "markdown",
      "metadata": {
        "id": "dG2sBQBYjrn6"
      },
      "source": [
        "The model uses  the Gaussian Naïve Bayes Classifier. It will try to categorize data by predicting the total number of rings (in other words, classify it). It needs to imported and fitted with the training data."
      ]
    },
    {
      "cell_type": "code",
      "metadata": {
        "id": "0rX-eYV_edDS"
      },
      "source": [
        "from sklearn.naive_bayes import GaussianNB\n",
        "\n",
        "model = GaussianNB()\n",
        "model.fit(X_train, y_train)"
      ],
      "execution_count": null,
      "outputs": []
    },
    {
      "cell_type": "markdown",
      "metadata": {
        "id": "iqKFBkx5kLZV"
      },
      "source": [
        "Now that the model knows how to classify the data. the next cell tells it to categorize the testing set."
      ]
    },
    {
      "cell_type": "code",
      "metadata": {
        "id": "80Gzb989grKS"
      },
      "source": [
        "y_pred = model.predict(X_test)"
      ],
      "execution_count": null,
      "outputs": []
    },
    {
      "cell_type": "markdown",
      "metadata": {
        "id": "nOEetehikX83"
      },
      "source": [
        "We'll now get the accuracy of the model's predicted target values of the test set versus the true values."
      ]
    },
    {
      "cell_type": "code",
      "metadata": {
        "id": "W3b4AWChgYik"
      },
      "source": [
        "from sklearn.metrics import  accuracy_score\n",
        "Gaussian_accuracy = accuracy_score(y_test, y_pred)\n",
        "print(\"Model 1 Accuracy:\", Gaussian_accuracy )"
      ],
      "execution_count": null,
      "outputs": []
    },
    {
      "cell_type": "markdown",
      "metadata": {
        "id": "REv8qwgskuKk"
      },
      "source": [
        "The accuracy is extremely low, so there is something we need to change.\n"
      ]
    },
    {
      "cell_type": "markdown",
      "metadata": {
        "id": "xDfKG-kBhblG"
      },
      "source": [
        "---"
      ]
    },
    {
      "cell_type": "markdown",
      "metadata": {
        "id": "Ww_aBpup8QhC"
      },
      "source": [
        "Model 2\n",
        "==="
      ]
    },
    {
      "cell_type": "markdown",
      "metadata": {
        "id": "o7XqEtEVokUi"
      },
      "source": [
        "In this model we will exclude features"
      ]
    },
    {
      "cell_type": "markdown",
      "metadata": {
        "id": "FdM9oQYVyR6n"
      },
      "source": [
        "Redefine Targets and Features (Model 2)\n",
        "---"
      ]
    },
    {
      "cell_type": "markdown",
      "metadata": {
        "id": "d-d6Ak1K589C"
      },
      "source": [
        "We will make a heatmap showing a correlation between features in model 1."
      ]
    },
    {
      "cell_type": "code",
      "metadata": {
        "id": "FE8DXBWs589h"
      },
      "source": [
        "import seaborn as sns\n",
        "from seaborn import heatmap\n",
        "\n",
        "sns.heatmap(abalone_df[FEATURES].corr(), annot = True)"
      ],
      "execution_count": null,
      "outputs": []
    },
    {
      "cell_type": "markdown",
      "metadata": {
        "id": "3TkAuJrg589j"
      },
      "source": [
        "A value of 1 means a perfect correlation/dependence (which may not be good). Some of the features have a  strong correlation.  For model 2 we will keep only Sex, Diam (diameter), height, and whole weight to narrow down then dependent features."
      ]
    },
    {
      "cell_type": "code",
      "metadata": {
        "id": "CeuSuzz0589k"
      },
      "source": [
        "to_delete =  np.array(['Length (mm)', 'Viscera Weight (grams)', 'Shucked Weight (grams)', 'Shell Weight (grams)'])\n",
        "to_delete"
      ],
      "execution_count": null,
      "outputs": []
    },
    {
      "cell_type": "markdown",
      "metadata": {
        "id": "eJ2hs5tT589l"
      },
      "source": [
        "Above is an array of features to exclude. The next cell defines the feature 2  as model 1's features, excluding the new array. The target is not changed."
      ]
    },
    {
      "cell_type": "code",
      "metadata": {
        "id": "BYi4Ekz4589m"
      },
      "source": [
        "target2 = 'Rings'\n",
        "features2 = np.delete(FEATURES, np.isin(FEATURES, to_delete))\n",
        "features2, target2"
      ],
      "execution_count": null,
      "outputs": []
    },
    {
      "cell_type": "markdown",
      "metadata": {
        "id": "JFR3pDtnzF0o"
      },
      "source": [
        "---"
      ]
    },
    {
      "cell_type": "markdown",
      "metadata": {
        "id": "d6JATBAtzHXl"
      },
      "source": [
        "Train/Test Split (Model 2)\n",
        "---"
      ]
    },
    {
      "cell_type": "code",
      "metadata": {
        "id": "qZnmuo8CzHXn"
      },
      "source": [
        "X2_train, X2_test, y2_train, y2_test = train_test_split(\n",
        "    abalone_df[features2],\n",
        "    abalone_df[target2],\n",
        "    test_size=0.30,\n",
        "    random_state= 300,\n",
        "    shuffle=True,\n",
        ")\n",
        "print(X2_train.size, y2_train.size)\n",
        "print(X2_test.size, y2_test.size)"
      ],
      "execution_count": null,
      "outputs": []
    },
    {
      "cell_type": "markdown",
      "metadata": {
        "id": "vIFZsMqdzHXs"
      },
      "source": [
        "---"
      ]
    },
    {
      "cell_type": "markdown",
      "metadata": {
        "id": "VCbIPhStzHXt"
      },
      "source": [
        "Model 2 setup\n",
        "---"
      ]
    },
    {
      "cell_type": "code",
      "metadata": {
        "id": "AGT2OutizhJy"
      },
      "source": [
        "model2 = model\n",
        "model2.fit(X2_train, y2_train)\n",
        "y2_pred = model2.predict(X2_test)"
      ],
      "execution_count": null,
      "outputs": []
    },
    {
      "cell_type": "code",
      "metadata": {
        "id": "SdseVHk6zHXx"
      },
      "source": [
        "Gaussian_accuracy2 = accuracy_score(y2_test, y2_pred )\n",
        "print(\"Model 2 Accuracy:\", Gaussian_accuracy2)"
      ],
      "execution_count": null,
      "outputs": []
    },
    {
      "cell_type": "markdown",
      "metadata": {
        "id": "LrY47_oQqXJa"
      },
      "source": [
        "The difference compared to model 1 are negligible."
      ]
    },
    {
      "cell_type": "markdown",
      "metadata": {
        "id": "uOyebuXT7r7c"
      },
      "source": [
        "---"
      ]
    },
    {
      "cell_type": "markdown",
      "metadata": {
        "id": "hM-Opi-97sya"
      },
      "source": [
        "---"
      ]
    },
    {
      "cell_type": "markdown",
      "metadata": {
        "id": "cS1j2UmWFjq0"
      },
      "source": [
        "Model 3\n",
        "==="
      ]
    },
    {
      "cell_type": "markdown",
      "metadata": {
        "id": "SVRx34QnlFd5"
      },
      "source": [
        "In this model we will put model 1's targets into 3 groups: 1 to 4 rings means 'Young', 5 to 15  will be 'Middle Age', and over 15 will be 'Old'. The features are the same as model 1. "
      ]
    },
    {
      "cell_type": "markdown",
      "metadata": {
        "id": "U5w0ryY60ZjE"
      },
      "source": [
        "One-hot encoding (Model 3)\n",
        "---"
      ]
    },
    {
      "cell_type": "code",
      "metadata": {
        "id": "DCQg3oV4kSrk"
      },
      "source": [
        "abalone_df['Rings'].values.min()"
      ],
      "execution_count": null,
      "outputs": []
    },
    {
      "cell_type": "code",
      "metadata": {
        "id": "ocfpmed1j2xT"
      },
      "source": [
        "abalone_df['Rings'].values.max()"
      ],
      "execution_count": null,
      "outputs": []
    },
    {
      "cell_type": "markdown",
      "metadata": {
        "id": "-psioaq9l6FB"
      },
      "source": [
        "The model has a range of values from 1 to 29."
      ]
    },
    {
      "cell_type": "code",
      "metadata": {
        "id": "RCXjloDSwtFu"
      },
      "source": [
        "abalone_df['Age'] = 0"
      ],
      "execution_count": null,
      "outputs": []
    },
    {
      "cell_type": "markdown",
      "metadata": {
        "id": "teMUowLqmPzt"
      },
      "source": [
        "The values for the 'Age' column needs to be set. 'for' is saying to select each ring column value (i). 'if' and 'elif' set conditions depending on what 'i' is. Lastly, the loc command selects and sets creates a value of the age column. The groups will be Young, Middle Age, or Old."
      ]
    },
    {
      "cell_type": "code",
      "metadata": {
        "id": "tXpsijhsunZL"
      },
      "source": [
        "for i in abalone_df['Rings']:\n",
        "  if 1<= i  and i <= 4:\n",
        "    abalone_df.loc[abalone_df['Rings'] == i, 'Age'] = 'Young'                #Young abalones have less than 5 rings\n",
        "  elif 5 <= i and i<= 15:\n",
        "    abalone_df.loc[abalone_df['Rings'] == i, 'Age'] = 'Middle Age'            #Middle Age abalone have between 5 and 15 rings.\n",
        "  elif 15<= i:                                                                \n",
        "    abalone_df.loc[abalone_df['Rings'] == i, 'Age'] = 'Old'                    #Old abalone have greater than 15 rings.\n",
        "abalone_df['Age'].unique()"
      ],
      "execution_count": null,
      "outputs": []
    },
    {
      "cell_type": "markdown",
      "metadata": {
        "id": "VyFpLCEBnjtk"
      },
      "source": [
        "Using the same idea, we will create a new column called 'Age_group'. It will be a numerical key for 'Age' and be set as the new target."
      ]
    },
    {
      "cell_type": "code",
      "metadata": {
        "id": "Ui8PcGm8xdlf"
      },
      "source": [
        "abalone_df['Age_group'] = 0"
      ],
      "execution_count": null,
      "outputs": []
    },
    {
      "cell_type": "markdown",
      "metadata": {
        "id": "6f3BAGqD71ua"
      },
      "source": [
        "Young = Age Group 0, Middle Age = Age Group 1, Old = Age Group 2."
      ]
    },
    {
      "cell_type": "code",
      "metadata": {
        "id": "oDxLASvWxreP"
      },
      "source": [
        "for i in abalone_df['Age']:\n",
        "  if i == 'Young':\n",
        "    abalone_df.loc[abalone_df['Age'] == i, 'Age_group'] = 0    #Young abalone = Age group 0\n",
        "  elif i == 'Middle Age':\n",
        "    abalone_df.loc[abalone_df['Age'] == i, 'Age_group'] = 1            #Middke Age abalone = Age group 1\n",
        "  elif i == 'Old':\n",
        "    abalone_df.loc[abalone_df['Age'] == i, 'Age_group'] = 2         #Old abalone = Age group 2"
      ],
      "execution_count": null,
      "outputs": []
    },
    {
      "cell_type": "code",
      "metadata": {
        "id": "fNjpG9vexHif"
      },
      "source": [
        "abalone_df['Age_group'].unique()"
      ],
      "execution_count": null,
      "outputs": []
    },
    {
      "cell_type": "code",
      "metadata": {
        "id": "zAB-u_D6xaqv"
      },
      "source": [
        "abalone_df"
      ],
      "execution_count": null,
      "outputs": []
    },
    {
      "cell_type": "markdown",
      "metadata": {
        "id": "57hCPA0cybT2"
      },
      "source": [
        "---"
      ]
    },
    {
      "cell_type": "markdown",
      "metadata": {
        "id": "tWmppTv86bWS"
      },
      "source": [
        "---"
      ]
    },
    {
      "cell_type": "markdown",
      "metadata": {
        "id": "uIinHgIa6gkR"
      },
      "source": [
        "Redefine Targets and Features (Model 3)\n",
        "---"
      ]
    },
    {
      "cell_type": "markdown",
      "metadata": {
        "id": "ITH_9AE0n9NQ"
      },
      "source": [
        "The new target will be defined as 'Age_group'. The features will be the same as model 1."
      ]
    },
    {
      "cell_type": "code",
      "metadata": {
        "id": "SU6Sy4y56gkX"
      },
      "source": [
        "target3 = 'Age_group'\n",
        "features3= ['Sex', 'Length (mm)', 'Diam (mm)', 'Height (mm)', 'Whole Weight (grams)', 'Shucked Weight (grams)', 'Viscera Weight (grams)', 'Shell Weight (grams)']\n",
        "features3, target3"
      ],
      "execution_count": null,
      "outputs": []
    },
    {
      "cell_type": "markdown",
      "metadata": {
        "id": "sORMWTKP6gkY"
      },
      "source": [
        "---"
      ]
    },
    {
      "cell_type": "markdown",
      "metadata": {
        "id": "OHa_YAbQ6gkZ"
      },
      "source": [
        "Train/Test Split (Model 3)\n",
        "---"
      ]
    },
    {
      "cell_type": "markdown",
      "metadata": {
        "id": "jkA34uTwoHV8"
      },
      "source": [
        "We create a training and testing set here. "
      ]
    },
    {
      "cell_type": "code",
      "metadata": {
        "id": "kQ95fwIa6gka"
      },
      "source": [
        "#Train/Test Split\n",
        "\n",
        "X3_train, X3_test, y3_train, y3_test = train_test_split(\n",
        "    abalone_df[features3],\n",
        "    abalone_df[target3],\n",
        "    test_size=0.30,\n",
        "    random_state=300,\n",
        "    shuffle=True,\n",
        ")\n",
        "print(X3_train.size, y3_train.size)\n",
        "print(X3_test.size, y3_test.size)"
      ],
      "execution_count": null,
      "outputs": []
    },
    {
      "cell_type": "markdown",
      "metadata": {
        "id": "L3kL4AWY6gkc"
      },
      "source": [
        "---"
      ]
    },
    {
      "cell_type": "markdown",
      "metadata": {
        "id": "B58Ynqnl6gkd"
      },
      "source": [
        "Model 3 setup\n",
        "---"
      ]
    },
    {
      "cell_type": "markdown",
      "metadata": {
        "id": "-w550UPqoMft"
      },
      "source": [
        "And now to get the model accuracy (following the steps done in model 1)."
      ]
    },
    {
      "cell_type": "code",
      "metadata": {
        "id": "hWqyc9jL6gke"
      },
      "source": [
        "model3 = GaussianNB()\n",
        "model3.fit(X3_train, y3_train)\n",
        "y3_pred = model3.predict(X3_test)"
      ],
      "execution_count": null,
      "outputs": []
    },
    {
      "cell_type": "code",
      "metadata": {
        "id": "xQ4Q94T76gkg"
      },
      "source": [
        "Gaussian_accuracy3 = accuracy_score(y3_test, y3_pred )\n",
        "print(\"Model 3 Accuracy:\", Gaussian_accuracy3 )\n",
        "\n",
        "Gaussian_precision3 = precision_score(y3_test, y3_pred, average = 'weighted', zero_division = 0)"
      ],
      "execution_count": null,
      "outputs": []
    },
    {
      "cell_type": "markdown",
      "metadata": {
        "id": "vrg_YyeNoVvX"
      },
      "source": [
        "The accuracy more than tripled from model 1, but it could stil be improved."
      ]
    },
    {
      "cell_type": "markdown",
      "metadata": {
        "id": "w11RleSZ6cFz"
      },
      "source": [
        "---"
      ]
    },
    {
      "cell_type": "markdown",
      "metadata": {
        "id": "9vx1MySy6dlj"
      },
      "source": [
        "---"
      ]
    },
    {
      "cell_type": "markdown",
      "metadata": {
        "id": "P6oxFwri7tts"
      },
      "source": [
        "Model 4\n",
        "==="
      ]
    },
    {
      "cell_type": "markdown",
      "metadata": {
        "id": "2wvwQFTTqplI"
      },
      "source": [
        "In this model we will use the features of model 2 and the target of model 3."
      ]
    },
    {
      "cell_type": "markdown",
      "metadata": {
        "id": "3WZ2_ujN72Yu"
      },
      "source": [
        "Redefine Targets and Features (Model 4)\n",
        "---"
      ]
    },
    {
      "cell_type": "code",
      "metadata": {
        "id": "_1EyvHmsC6zz"
      },
      "source": [
        "features2, target3"
      ],
      "execution_count": null,
      "outputs": []
    },
    {
      "cell_type": "markdown",
      "metadata": {
        "id": "zFyfm4j2teTc"
      },
      "source": [
        "The next cell defines sets the target as model 3's target and the features as model 2's features."
      ]
    },
    {
      "cell_type": "code",
      "metadata": {
        "id": "9NHYDTDS72Yy"
      },
      "source": [
        "target4 = 'Age_group'\n",
        "features4 = ['Sex', 'Diam (mm)', 'Height (mm)', 'Whole Weight (grams)']\n",
        "features4, target4"
      ],
      "execution_count": null,
      "outputs": []
    },
    {
      "cell_type": "markdown",
      "metadata": {
        "id": "wx_7kqTc72Yz"
      },
      "source": [
        "---"
      ]
    },
    {
      "cell_type": "markdown",
      "metadata": {
        "id": "7tkWgYs872Y0"
      },
      "source": [
        "Train/Test Split (Model 4)\n",
        "---"
      ]
    },
    {
      "cell_type": "markdown",
      "metadata": {
        "id": "9mZRExPeuWGC"
      },
      "source": [
        "We'll split the data."
      ]
    },
    {
      "cell_type": "code",
      "metadata": {
        "id": "7FZuwdOU72Y1"
      },
      "source": [
        "#Train/Test Split\n",
        "X4_train, X4_test, y4_train, y4_test = train_test_split(\n",
        "    abalone_df[features4],\n",
        "    abalone_df[target4],\n",
        "    test_size=0.30,\n",
        "    random_state=300,\n",
        "    shuffle=True,\n",
        ")\n",
        "print(X4_train.size, y4_train.size)\n",
        "print(X4_test.size, y4_test.size)"
      ],
      "execution_count": null,
      "outputs": []
    },
    {
      "cell_type": "markdown",
      "metadata": {
        "id": "uk85BrtA72Y3"
      },
      "source": [
        "---"
      ]
    },
    {
      "cell_type": "markdown",
      "metadata": {
        "id": "WGXMeS0U72Y4"
      },
      "source": [
        "Model 4 setup\n",
        "---"
      ]
    },
    {
      "cell_type": "markdown",
      "metadata": {
        "id": "ftMr4P-IuYoA"
      },
      "source": [
        "Lastly, we need the accuracy."
      ]
    },
    {
      "cell_type": "code",
      "metadata": {
        "id": "oNE6hVoL72Y5"
      },
      "source": [
        "model4 = model\n",
        "model4.fit(X4_train, y4_train)\n",
        "y4_pred = model4.predict(X4_test)"
      ],
      "execution_count": null,
      "outputs": []
    },
    {
      "cell_type": "code",
      "metadata": {
        "id": "vdI3yqw872Y7"
      },
      "source": [
        "Gaussian_accuracy4 = accuracy_score(y4_test, y4_pred)\n",
        "print(\"Model 4 Accuracy:\", Gaussian_accuracy4)"
      ],
      "execution_count": null,
      "outputs": []
    },
    {
      "cell_type": "markdown",
      "metadata": {
        "id": "CDvwssTnubDm"
      },
      "source": [
        "The accuracy score is about 86%, which is higher than model 3."
      ]
    },
    {
      "cell_type": "markdown",
      "metadata": {
        "id": "xLFhvBSw72Y8"
      },
      "source": [
        "---"
      ]
    },
    {
      "cell_type": "markdown",
      "metadata": {
        "id": "TzX0Auuk72Y9"
      },
      "source": [
        "---"
      ]
    },
    {
      "cell_type": "markdown",
      "metadata": {
        "id": "VeAOsXNZ5eBX"
      },
      "source": [
        "Model 5\n",
        "==="
      ]
    },
    {
      "cell_type": "markdown",
      "metadata": {
        "id": "lem7Yh4m5eB9"
      },
      "source": [
        "This last model will resemble model 4, but we will remove one more feature."
      ]
    },
    {
      "cell_type": "markdown",
      "metadata": {
        "id": "RbKvgfGM5eB-"
      },
      "source": [
        "Redefine Targets and Features (Model 5)\n",
        "---"
      ]
    },
    {
      "cell_type": "markdown",
      "metadata": {
        "id": "fZv5uizqDrZS"
      },
      "source": [
        "The next cell shows the correlation of model 4's features"
      ]
    },
    {
      "cell_type": "code",
      "metadata": {
        "id": "TiZ63hdLCkgW"
      },
      "source": [
        "sns.heatmap(abalone_df[features4 ].corr(), annot= True)"
      ],
      "execution_count": null,
      "outputs": []
    },
    {
      "cell_type": "code",
      "metadata": {
        "id": "hg-QTmZKEaE4"
      },
      "source": [
        "features4"
      ],
      "execution_count": null,
      "outputs": []
    },
    {
      "cell_type": "markdown",
      "metadata": {
        "id": "nmrBPiWVECgn"
      },
      "source": [
        "For this model we will use model 4's features excluding Whole Weight. It has a close of correlation with Diam (0.93). The target will remain as Age_group."
      ]
    },
    {
      "cell_type": "code",
      "metadata": {
        "id": "nxzkiBr65eCC"
      },
      "source": [
        "features5 = ['Sex', 'Diam (mm)', 'Height (mm)']\n",
        "target5 = 'Age_group'\n",
        "features5, target5"
      ],
      "execution_count": null,
      "outputs": []
    },
    {
      "cell_type": "markdown",
      "metadata": {
        "id": "ZH_64tBo5eCC"
      },
      "source": [
        "---"
      ]
    },
    {
      "cell_type": "markdown",
      "metadata": {
        "id": "wC3KzNKm5eCD"
      },
      "source": [
        "Train/Test Split (Model 5)\n",
        "---"
      ]
    },
    {
      "cell_type": "code",
      "metadata": {
        "id": "Xz3MHBtJ5eCE"
      },
      "source": [
        "X5_train, X5_test, y5_train, y5_test = train_test_split(\n",
        "    abalone_df[features5],\n",
        "    abalone_df[target5],\n",
        "    test_size=0.30,\n",
        "    random_state=300,\n",
        "    shuffle=True,\n",
        ")\n",
        "print(X5_train.size, y5_train.size)\n",
        "print(X5_test.size, y5_test.size)"
      ],
      "execution_count": null,
      "outputs": []
    },
    {
      "cell_type": "markdown",
      "metadata": {
        "id": "IDoVfObt5eCF"
      },
      "source": [
        "---"
      ]
    },
    {
      "cell_type": "markdown",
      "metadata": {
        "id": "Qv3Nf6KM5eCG"
      },
      "source": [
        "Model 5 setup\n",
        "---"
      ]
    },
    {
      "cell_type": "code",
      "metadata": {
        "id": "CUUtMARg5eCG"
      },
      "source": [
        "model5 = GaussianNB()\n",
        "model5.fit(X5_train, y5_train)"
      ],
      "execution_count": null,
      "outputs": []
    },
    {
      "cell_type": "code",
      "metadata": {
        "id": "4lLN9uLm5eCH"
      },
      "source": [
        "y5_pred = model5.predict(X5_test)"
      ],
      "execution_count": null,
      "outputs": []
    },
    {
      "cell_type": "code",
      "metadata": {
        "id": "Uw1ciAgT5eCI"
      },
      "source": [
        "Gaussian_accuracy5 = accuracy_score(y5_test, y5_pred )\n",
        "print(\"Model 5 Accuracy:\", Gaussian_accuracy5 )"
      ],
      "execution_count": null,
      "outputs": []
    },
    {
      "cell_type": "markdown",
      "metadata": {
        "id": "n4iwC4gb5eCJ"
      },
      "source": [
        "The accuracy increased to about 91%."
      ]
    },
    {
      "cell_type": "markdown",
      "metadata": {
        "id": "_zsRCL3b5eCJ"
      },
      "source": [
        "---"
      ]
    },
    {
      "cell_type": "markdown",
      "metadata": {
        "id": "UTcrQ6jw5eCK"
      },
      "source": [
        "---"
      ]
    },
    {
      "cell_type": "markdown",
      "metadata": {
        "id": "Stt9CIPYNlU7"
      },
      "source": [
        "Analysis\n",
        "==="
      ]
    },
    {
      "cell_type": "markdown",
      "metadata": {
        "id": "A1fGB6VyO4-W"
      },
      "source": [
        "There are our scores from running the cells."
      ]
    },
    {
      "cell_type": "markdown",
      "metadata": {
        "id": "6hnMj1yKN3kW"
      },
      "source": [
        "Result\n",
        "1.   Model 1 Accuracy: 0.24401913875598086\n",
        "2.   Model 2 Accuracy: 0.23684210526315788cy: 0.7208931419457735\n",
        "4.   Model 4 Accuracy: 0.8660287081339713\n",
        "5.   Model 5 Accuracy: 0.9098883572567783\n",
        "\n",
        "Model 5 was the most accurate, followed by 4, 3, 2, and 1."
      ]
    },
    {
      "cell_type": "markdown",
      "metadata": {
        "id": "P0mI2DEPQQVL"
      },
      "source": [
        "Models 1 and 2\n",
        "---"
      ]
    },
    {
      "cell_type": "markdown",
      "metadata": {
        "id": "tH27vOdKNoou"
      },
      "source": [
        "  Data in models 1 and 2 were classified by the total rings.There were too many different target values or classes in the first 2 models, causing a low accuracy. Removing dependent features made no real difference. Model 3 is has model 1's features, but a new target (Age_group). The new target had fewer (or 3 total) different values and more than tripled the accuracy score. "
      ]
    },
    {
      "cell_type": "markdown",
      "metadata": {
        "id": "An9KIs_qQroW"
      },
      "source": [
        "Models 3 and 4\n",
        "---"
      ]
    },
    {
      "cell_type": "markdown",
      "metadata": {
        "id": "bAYhB1YHQt1f"
      },
      "source": [
        "  Models 3 and 4 had much higher accuracies than 1 and 2 because of the amount of unique target values or classes. However, model 4 had a higher accuracy than 3 because we removed some features with a high correlation (or dependence). Having fewer features with dependence on others led to the higher accuracy."
      ]
    },
    {
      "cell_type": "markdown",
      "metadata": {
        "id": "Bg67mCYdRSBL"
      },
      "source": [
        "Model 5\n",
        "---"
      ]
    },
    {
      "cell_type": "markdown",
      "metadata": {
        "id": "yrcvpMvHRUdE"
      },
      "source": [
        "Model 5 has the best accuracy. It is like model 4, but removes another feature (whole weight) which had a close relation with diameter."
      ]
    },
    {
      "cell_type": "markdown",
      "metadata": {
        "id": "bvvwScEvNW8W"
      },
      "source": [
        "Results\n",
        "---"
      ]
    },
    {
      "cell_type": "markdown",
      "metadata": {
        "id": "gaLG0ZbtNbFQ"
      },
      "source": [
        "  \n",
        "*  Based on the results, the best way to determine an abalone's age is the diameter, sex, and height. It can be determined as young, middle age, or old. However, the model is not good at finding the precise age.\n",
        "\n",
        "\n",
        "\n",
        "*  A possible bias in our data is that it may be very generalized. It looks at data of abalones in general, ignoring the species or where they are from. This can make the data less reliable to use locally. It is not possible to get past the generalizations with the current data.\n"
      ]
    }
  ]
}